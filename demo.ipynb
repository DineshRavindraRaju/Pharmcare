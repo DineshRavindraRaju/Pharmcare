{
 "cells": [
  {
   "cell_type": "code",
   "execution_count": 65,
   "id": "10d15f97",
   "metadata": {},
   "outputs": [],
   "source": [
    "import pypgx\n",
    "import numpy as np\n",
    "import matplotlib.pyplot as plt\n",
    "\n",
    "import pandas as pd\n",
    "import os \n",
    "import subprocess\n",
    "import shlex\n",
    "from matplotlib import image as mpimg\n"
   ]
  },
  {
   "cell_type": "code",
   "execution_count": 55,
   "id": "9d325f45",
   "metadata": {},
   "outputs": [
    {
     "data": {
      "text/html": [
       "<div>\n",
       "<style scoped>\n",
       "    .dataframe tbody tr th:only-of-type {\n",
       "        vertical-align: middle;\n",
       "    }\n",
       "\n",
       "    .dataframe tbody tr th {\n",
       "        vertical-align: top;\n",
       "    }\n",
       "\n",
       "    .dataframe thead th {\n",
       "        text-align: right;\n",
       "    }\n",
       "</style>\n",
       "<table border=\"1\" class=\"dataframe\">\n",
       "  <thead>\n",
       "    <tr style=\"text-align: right;\">\n",
       "      <th></th>\n",
       "      <th>Drug</th>\n",
       "      <th>Gene1</th>\n",
       "      <th>Phenotype1</th>\n",
       "      <th>Gene2</th>\n",
       "      <th>Phenotype2</th>\n",
       "      <th>Recommendation</th>\n",
       "    </tr>\n",
       "  </thead>\n",
       "  <tbody>\n",
       "    <tr>\n",
       "      <th>0</th>\n",
       "      <td>tacrolimus</td>\n",
       "      <td>CYP3A5</td>\n",
       "      <td>Normal Metabolizer</td>\n",
       "      <td>None</td>\n",
       "      <td>None</td>\n",
       "      <td>Increase starting dose 1.5 to 2 times recommen...</td>\n",
       "    </tr>\n",
       "    <tr>\n",
       "      <th>1</th>\n",
       "      <td>tacrolimus</td>\n",
       "      <td>CYP3A5</td>\n",
       "      <td>Intermediate Metabolizer</td>\n",
       "      <td>None</td>\n",
       "      <td>None</td>\n",
       "      <td>Increase starting dose 1.5 to 2 times recommen...</td>\n",
       "    </tr>\n",
       "    <tr>\n",
       "      <th>2</th>\n",
       "      <td>tacrolimus</td>\n",
       "      <td>CYP3A5</td>\n",
       "      <td>Possible Intermediate Metabolizer</td>\n",
       "      <td>None</td>\n",
       "      <td>None</td>\n",
       "      <td>None</td>\n",
       "    </tr>\n",
       "    <tr>\n",
       "      <th>3</th>\n",
       "      <td>tacrolimus</td>\n",
       "      <td>CYP3A5</td>\n",
       "      <td>Poor Metabolizer</td>\n",
       "      <td>None</td>\n",
       "      <td>None</td>\n",
       "      <td>Initiate therapy with standard recommended dos...</td>\n",
       "    </tr>\n",
       "    <tr>\n",
       "      <th>4</th>\n",
       "      <td>tacrolimus</td>\n",
       "      <td>CYP3A5</td>\n",
       "      <td>Indeterminate</td>\n",
       "      <td>None</td>\n",
       "      <td>None</td>\n",
       "      <td>None</td>\n",
       "    </tr>\n",
       "    <tr>\n",
       "      <th>...</th>\n",
       "      <td>...</td>\n",
       "      <td>...</td>\n",
       "      <td>...</td>\n",
       "      <td>...</td>\n",
       "      <td>...</td>\n",
       "      <td>...</td>\n",
       "    </tr>\n",
       "    <tr>\n",
       "      <th>719</th>\n",
       "      <td>atomoxetine</td>\n",
       "      <td>CYP2D6</td>\n",
       "      <td>Ultrarapid Metabolizer</td>\n",
       "      <td>None</td>\n",
       "      <td>None</td>\n",
       "      <td>Initiate with a dose of 40 mg/day and increase...</td>\n",
       "    </tr>\n",
       "    <tr>\n",
       "      <th>720</th>\n",
       "      <td>atomoxetine</td>\n",
       "      <td>CYP2D6</td>\n",
       "      <td>Normal Metabolizer</td>\n",
       "      <td>None</td>\n",
       "      <td>None</td>\n",
       "      <td>Initiate with a dose of 40 mg/day and increase...</td>\n",
       "    </tr>\n",
       "    <tr>\n",
       "      <th>721</th>\n",
       "      <td>atomoxetine</td>\n",
       "      <td>CYP2D6</td>\n",
       "      <td>Intermediate Metabolizer</td>\n",
       "      <td>None</td>\n",
       "      <td>None</td>\n",
       "      <td>Initiate with a dose of 40 mg/day and increase...</td>\n",
       "    </tr>\n",
       "    <tr>\n",
       "      <th>722</th>\n",
       "      <td>atomoxetine</td>\n",
       "      <td>CYP2D6</td>\n",
       "      <td>Poor Metabolizer</td>\n",
       "      <td>None</td>\n",
       "      <td>None</td>\n",
       "      <td>Initiate with a dose of 40 mg/day and if no cl...</td>\n",
       "    </tr>\n",
       "    <tr>\n",
       "      <th>723</th>\n",
       "      <td>atomoxetine</td>\n",
       "      <td>CYP2D6</td>\n",
       "      <td>Indeterminate</td>\n",
       "      <td>None</td>\n",
       "      <td>None</td>\n",
       "      <td>None</td>\n",
       "    </tr>\n",
       "  </tbody>\n",
       "</table>\n",
       "<p>724 rows × 6 columns</p>\n",
       "</div>"
      ],
      "text/plain": [
       "            Drug   Gene1                         Phenotype1 Gene2 Phenotype2  \\\n",
       "0     tacrolimus  CYP3A5                 Normal Metabolizer  None       None   \n",
       "1     tacrolimus  CYP3A5           Intermediate Metabolizer  None       None   \n",
       "2     tacrolimus  CYP3A5  Possible Intermediate Metabolizer  None       None   \n",
       "3     tacrolimus  CYP3A5                   Poor Metabolizer  None       None   \n",
       "4     tacrolimus  CYP3A5                      Indeterminate  None       None   \n",
       "..           ...     ...                                ...   ...        ...   \n",
       "719  atomoxetine  CYP2D6             Ultrarapid Metabolizer  None       None   \n",
       "720  atomoxetine  CYP2D6                 Normal Metabolizer  None       None   \n",
       "721  atomoxetine  CYP2D6           Intermediate Metabolizer  None       None   \n",
       "722  atomoxetine  CYP2D6                   Poor Metabolizer  None       None   \n",
       "723  atomoxetine  CYP2D6                      Indeterminate  None       None   \n",
       "\n",
       "                                        Recommendation  \n",
       "0    Increase starting dose 1.5 to 2 times recommen...  \n",
       "1    Increase starting dose 1.5 to 2 times recommen...  \n",
       "2                                                 None  \n",
       "3    Initiate therapy with standard recommended dos...  \n",
       "4                                                 None  \n",
       "..                                                 ...  \n",
       "719  Initiate with a dose of 40 mg/day and increase...  \n",
       "720  Initiate with a dose of 40 mg/day and increase...  \n",
       "721  Initiate with a dose of 40 mg/day and increase...  \n",
       "722  Initiate with a dose of 40 mg/day and if no cl...  \n",
       "723                                               None  \n",
       "\n",
       "[724 rows x 6 columns]"
      ]
     },
     "execution_count": 55,
     "metadata": {},
     "output_type": "execute_result"
    }
   ],
   "source": [
    "df = pypgx.load_recommendation_table()\n",
    "df"
   ]
  },
  {
   "cell_type": "code",
   "execution_count": 4,
   "id": "ce1aac04",
   "metadata": {},
   "outputs": [
    {
     "data": {
      "text/html": [
       "<div>\n",
       "<style scoped>\n",
       "    .dataframe tbody tr th:only-of-type {\n",
       "        vertical-align: middle;\n",
       "    }\n",
       "\n",
       "    .dataframe tbody tr th {\n",
       "        vertical-align: top;\n",
       "    }\n",
       "\n",
       "    .dataframe thead th {\n",
       "        text-align: right;\n",
       "    }\n",
       "</style>\n",
       "<table border=\"1\" class=\"dataframe\">\n",
       "  <thead>\n",
       "    <tr style=\"text-align: right;\">\n",
       "      <th></th>\n",
       "      <th>CHROM</th>\n",
       "      <th>POS</th>\n",
       "      <th>ID</th>\n",
       "      <th>REF</th>\n",
       "      <th>ALT</th>\n",
       "      <th>QUAL</th>\n",
       "      <th>FILTER</th>\n",
       "      <th>INFO</th>\n",
       "      <th>FORMAT</th>\n",
       "      <th>*2</th>\n",
       "      <th>*3</th>\n",
       "    </tr>\n",
       "  </thead>\n",
       "  <tbody>\n",
       "    <tr>\n",
       "      <th>0</th>\n",
       "      <td>19</td>\n",
       "      <td>15990431</td>\n",
       "      <td>rs2108622</td>\n",
       "      <td>C</td>\n",
       "      <td>T</td>\n",
       "      <td>.</td>\n",
       "      <td>.</td>\n",
       "      <td>VI=V433M</td>\n",
       "      <td>GT</td>\n",
       "      <td>0</td>\n",
       "      <td>1</td>\n",
       "    </tr>\n",
       "    <tr>\n",
       "      <th>1</th>\n",
       "      <td>19</td>\n",
       "      <td>16008388</td>\n",
       "      <td>rs3093105</td>\n",
       "      <td>A</td>\n",
       "      <td>C</td>\n",
       "      <td>.</td>\n",
       "      <td>.</td>\n",
       "      <td>VI=W12G</td>\n",
       "      <td>GT</td>\n",
       "      <td>1</td>\n",
       "      <td>0</td>\n",
       "    </tr>\n",
       "  </tbody>\n",
       "</table>\n",
       "</div>"
      ],
      "text/plain": [
       "  CHROM       POS         ID REF ALT QUAL FILTER      INFO FORMAT *2 *3\n",
       "0    19  15990431  rs2108622   C   T    .      .  VI=V433M     GT  0  1\n",
       "1    19  16008388  rs3093105   A   C    .      .   VI=W12G     GT  1  0"
      ]
     },
     "execution_count": 4,
     "metadata": {},
     "output_type": "execute_result"
    }
   ],
   "source": [
    "vf = pypgx.build_definition_table('CYP4F2')\n",
    "vf.df"
   ]
  },
  {
   "cell_type": "code",
   "execution_count": 6,
   "id": "e407a6d9",
   "metadata": {},
   "outputs": [
    {
     "data": {
      "text/plain": [
       "['19-41512841-G-T', '19-41515263-A-G']"
      ]
     },
     "execution_count": 6,
     "metadata": {},
     "output_type": "execute_result"
    }
   ],
   "source": [
    "pypgx.list_variants('CYP2B6', alleles='*6', mode='core')\n"
   ]
  },
  {
   "cell_type": "code",
   "execution_count": 7,
   "id": "bc8abb18",
   "metadata": {},
   "outputs": [
    {
     "data": {
      "text/plain": [
       "['19-41512841-G-T', '19-41515263-A-G', '19-41522715-C-T']"
      ]
     },
     "execution_count": 7,
     "metadata": {},
     "output_type": "execute_result"
    }
   ],
   "source": [
    "pypgx.list_variants('CYP2B6', alleles='*7', mode='core')\n"
   ]
  },
  {
   "cell_type": "code",
   "execution_count": 8,
   "id": "c72485ac",
   "metadata": {},
   "outputs": [
    {
     "data": {
      "text/plain": [
       "['*7']"
      ]
     },
     "execution_count": 8,
     "metadata": {},
     "output_type": "execute_result"
    }
   ],
   "source": [
    "pypgx.collapse_alleles('CYP2B6', ['*6', '*7'])"
   ]
  },
  {
   "cell_type": "code",
   "execution_count": 9,
   "id": "465820d8",
   "metadata": {},
   "outputs": [
    {
     "data": {
      "text/plain": [
       "[42522500,\n",
       " 42522852,\n",
       " 42523448,\n",
       " 42523843,\n",
       " 42524175,\n",
       " 42524785,\n",
       " 42525034,\n",
       " 42525739,\n",
       " 42526613]"
      ]
     },
     "execution_count": 9,
     "metadata": {},
     "output_type": "execute_result"
    }
   ],
   "source": [
    "pypgx.get_exon_starts('CYP2D6')"
   ]
  },
  {
   "cell_type": "code",
   "execution_count": 10,
   "id": "0226d54a",
   "metadata": {},
   "outputs": [
    {
     "name": "stdout",
     "output_type": "stream",
     "text": [
      "Normal/Routine/Low Risk\n",
      "Abnormal/Priority/High Risk\n",
      "Normal/Routine/Low Risk\n"
     ]
    }
   ],
   "source": [
    "print(pypgx.get_priority('CYP2D6', 'Normal Metabolizer'))\n",
    "#'Normal/Routine/Low Risk'\n",
    "print(pypgx.get_priority('CYP2D6', 'Ultrarapid Metabolizer'))\n",
    "print(pypgx.get_priority('CYP3A5', 'Poor Metabolizer'))"
   ]
  },
  {
   "cell_type": "code",
   "execution_count": 11,
   "id": "01429d1c",
   "metadata": {},
   "outputs": [
    {
     "data": {
      "text/plain": [
       "1.0"
      ]
     },
     "execution_count": 11,
     "metadata": {},
     "output_type": "execute_result"
    }
   ],
   "source": [
    "pypgx.get_score('CYP2D6', '*1')"
   ]
  },
  {
   "cell_type": "code",
   "execution_count": 12,
   "id": "8c6fabfa",
   "metadata": {},
   "outputs": [
    {
     "data": {
      "text/plain": [
       "'Splice Defect'"
      ]
     },
     "execution_count": 12,
     "metadata": {},
     "output_type": "execute_result"
    }
   ],
   "source": [
    "pypgx.get_variant_impact('10-96541756-T-A')"
   ]
  },
  {
   "cell_type": "code",
   "execution_count": 13,
   "id": "e2d57c41",
   "metadata": {},
   "outputs": [],
   "source": [
    "drugs = ['nortriptyline', 'sertraline', 'atorvastatin', 'succinylcholine', 'tamoxifen', 'methoxyflurane', 'meloxicam', \n",
    "'thioguanine', 'ondansetron', 'fluvoxamine', 'halothane', 'atomoxetine', 'tenoxicam', 'ribavirin', 'clomipramine', \n",
    "'peginterferon alfa-2a', 'dexlansoprazole', 'fluorouracil', 'omeprazole', 'amitriptyline', 'celecoxib', 'rosuvastatin',\n",
    "'fluvastatin', 'tropisetron', 'doxepin', 'hormonal contraceptives for systemic use', 'flurbiprofen', 'ivacaftor', 'tramadol',\n",
    "'pravastatin', 'sevoflurane', 'hydrocodone', 'citalopram', 'lansoprazole', 'enflurane', 'ibuprofen', 'escitalopram',\n",
    "'mercaptopurine', 'lornoxicam', 'desipramine', 'imipramine', 'codeine', 'piroxicam', 'azathioprine', 'isoflurane', \n",
    "'lovastatin', 'pitavastatin', 'paroxetine', 'desflurane', 'peginterferon alfa-2b', 'trimipramine', 'simvastatin', \n",
    "'capecitabine', 'voriconazole', \n",
    "'atazanavir', 'tacrolimus', 'efavirenz',\n",
    "'pantoprazole', 'clopidogrel']"
   ]
  },
  {
   "cell_type": "code",
   "execution_count": 51,
   "id": "7f3fb394",
   "metadata": {},
   "outputs": [],
   "source": [
    "drug = drugs[6] # a random drug from the list \n",
    "vcf = \"./uploads/test.vcf.gz\"\n",
    "name_ = \"results_pipeline\""
   ]
  },
  {
   "cell_type": "code",
   "execution_count": 52,
   "id": "5782d9bb",
   "metadata": {},
   "outputs": [
    {
     "name": "stdout",
     "output_type": "stream",
     "text": [
      "['CYP2C9']\n"
     ]
    }
   ],
   "source": [
    "focus_df = df.loc[(df['Drug'] == str(drug).lower())]\n",
    "\n",
    "groups = (focus_df.groupby([\"Drug\"]))\n",
    "\n",
    "genes=[]\n",
    "for ind , row in focus_df.iterrows():\n",
    "    genes.append(row[\"Gene1\"])\n",
    "\n",
    "\n",
    "unqiue_genes = list(set(genes))\n",
    "print(unqiue_genes)\n",
    "\n",
    "\n",
    "#if len(unqiue_genes)==1:\n",
    "   \n",
    "\n",
    "\n",
    "\n",
    "    "
   ]
  },
  {
   "cell_type": "code",
   "execution_count": 61,
   "id": "819e27ae",
   "metadata": {},
   "outputs": [
    {
     "name": "stdout",
     "output_type": "stream",
     "text": [
      "\u001b[0;32;32mSaved VcfFrame[Imported] to: results_pipeline/imported-variants.zip\u001b[0m\n",
      "\u001b[0;32;32mSaved VcfFrame[Phased] to: results_pipeline/phased-variants.zip\u001b[0m\n",
      "\u001b[0;32;32mSaved VcfFrame[Consolidated] to: results_pipeline/consolidated-variants.zip\u001b[0m\n",
      "\u001b[0;32;32mSaved SampleTable[Alleles] to: results_pipeline/alleles.zip\u001b[0m\n",
      "\u001b[0;32;32mSaved SampleTable[Genotypes] to: results_pipeline/genotypes.zip\u001b[0m\n",
      "\u001b[0;32;32mSaved SampleTable[Phenotypes] to: results_pipeline/phenotypes.zip\u001b[0m\n",
      "\u001b[0;32;32mSaved SampleTable[Results] to: results_pipeline/results.zip\u001b[0m\n",
      "pipeline done !\n",
      "Archive:  results.zip\n",
      "  inflating: tmpf2qgoik_/data.tsv    \n",
      "  inflating: tmpf2qgoik_/metadata.txt  \n",
      "unzipped\n",
      "tmpf2qgoik_\n",
      "Normal Metabolizer\n",
      "Index(['Recommendation'], dtype='object')\n",
      "                                       Recommendation\n",
      "11  Initiate therapy with recommended starting dos...\n"
     ]
    },
    {
     "name": "stderr",
     "output_type": "stream",
     "text": [
      "/home/alterego/anaconda3/envs/AHCG/lib/python3.7/site-packages/pypgx/api/utils.py:855: UserWarning: Only 1 overlapping variant, skip statistical phasing\n",
      "  warnings.warn(\"Only 1 overlapping variant, skip statistical phasing\")\n"
     ]
    }
   ],
   "source": [
    "pypgx.api.pipeline.run_ngs_pipeline(str(unqiue_genes[0]).upper() ,name_ , variants=vcf)\n",
    "#os.chdir(\"./{dir}\".format(dir=id))\n",
    "print(\"pipeline done !\")\n",
    "os.chdir(name_)\n",
    "subprocess.run(shlex.split(\"unzip results.zip\".format(dir=id)))\n",
    "print(\"unzipped\")\n",
    "\n",
    "\n",
    "file = [f for f in os.listdir(\"./\")  if f.startswith(\"tmp\") ]\n",
    "\n",
    "print(file[0])\n",
    "df2 = pd.read_csv(\"{dir}/data.tsv\".format(dir=file[0]),sep='\\t')\n",
    "\n",
    "genotype = str(df2[\"Genotype\"])\n",
    "phenotype = (df2[\"Phenotype\"][0])\n",
    "print(phenotype)\n",
    "\n",
    "os.chdir(\"../\")\n",
    "\n",
    "\n",
    "#recommendation = str(df.loc[(df['Drug'] == str(drug).lower())])\n",
    "recommendation = focus_df[focus_df[\"Phenotype1\"]==phenotype][\"Recommendation\"]\n",
    "rec=recommendation.to_frame()\n",
    "print(rec.columns)\n",
    "df3 = rec.drop_duplicates(keep='first') #Removing duplicates and just keeping the first hit\n",
    "print(df3)\n",
    "df3.to_csv('rec2.csv')\n",
    "\n",
    "\n",
    "\n",
    "\n",
    "\n",
    "\n",
    "\n",
    "\n"
   ]
  },
  {
   "cell_type": "code",
   "execution_count": 68,
   "id": "fcfe9b11",
   "metadata": {},
   "outputs": [
    {
     "data": {
      "text/plain": [
       "<matplotlib.image.AxesImage at 0x7fbbc4fd2610>"
      ]
     },
     "execution_count": 68,
     "metadata": {},
     "output_type": "execute_result"
    },
    {
     "data": {
      "image/png": "[encoded data removed]",
      "text/plain": [
       "<Figure size 640x480 with 1 Axes>"
      ]
     },
     "metadata": {},
     "output_type": "display_data"
    }
   ],
   "source": [
    "os.chdir(name_)\n",
    "profile = mpimg.imread(\"allele-fraction-profile/7843.png\")\n",
    "plt.imshow(profile)\n",
    "\n"
   ]
  },
  {
   "cell_type": "code",
   "execution_count": 69,
   "id": "e0b73063",
   "metadata": {},
   "outputs": [],
   "source": [
    "os.chdir(\"../\")"
   ]
  },
  {
   "cell_type": "code",
   "execution_count": null,
   "id": "a2d1746f",
   "metadata": {},
   "outputs": [],
   "source": []
  }
 ],
 "metadata": {
  "kernelspec": {
   "display_name": "Python 3 (ipykernel)",
   "language": "python",
   "name": "python3"
  },
  "language_info": {
   "codemirror_mode": {
    "name": "ipython",
    "version": 3
   },
   "file_extension": ".py",
   "mimetype": "text/x-python",
   "name": "python",
   "nbconvert_exporter": "python",
   "pygments_lexer": "ipython3",
   "version": "3.7.7"
  }
 },
 "nbformat": 4,
 "nbformat_minor": 5
}
